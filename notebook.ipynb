{
 "cells": [
  {
   "cell_type": "code",
   "execution_count": null,
   "metadata": {},
   "outputs": [],
   "source": [
    "import cohere"
   ]
  },
  {
   "cell_type": "code",
   "execution_count": 7,
   "metadata": {},
   "outputs": [
    {
     "name": "stdout",
     "output_type": "stream",
     "text": [
      "Chatbot: There are several resources you can contact in case of emergency. Here are some hotlines you can call to speak about suicides and depression in Toronto and Canada:\n",
      "\n",
      "1) The Crisis Service Canada - 1-833-456-4566}{\n",
      "2) Toronto Distress Line - 416-408-4357\n",
      "3) Canadian Mental Health Association, Toronto - 416-979-1700\n",
      "4) Kids Help Phone - 1-800-668-6868\n",
      "5) Good2Talk - 1-866-925-5454\n",
      "\n",
      "It is also important to remember that these hotlines are available around the clock to support you in your state of urgency. \n",
      "\n",
      "Please reach out to the relevant organizations for more details. \n",
      "\n",
      "Do you require any further information regarding these organizations?\n"
     ]
    }
   ],
   "source": [
    "# initialize the Cohere Client with an API Key\n",
    "co = cohere.Client('ER2h4O9Vjk4gdTx0S1bYRttHGQIucPvpTwDWrg4r')\n",
    "\n",
    "# generate a prediction for a prompt\n",
    "prediction = co.chat(message='Help Lines for suicides in toronto', model='command')\n",
    "\n",
    "# print the predicted text\n",
    "print(f'Chatbot: {prediction.text}')"
   ]
  },
  {
   "cell_type": "code",
   "execution_count": null,
   "metadata": {},
   "outputs": [],
   "source": []
  }
 ],
 "metadata": {
  "kernelspec": {
   "display_name": "Python 3",
   "language": "python",
   "name": "python3"
  },
  "language_info": {
   "codemirror_mode": {
    "name": "ipython",
    "version": 3
   },
   "file_extension": ".py",
   "mimetype": "text/x-python",
   "name": "python",
   "nbconvert_exporter": "python",
   "pygments_lexer": "ipython3",
   "version": "3.8.10"
  }
 },
 "nbformat": 4,
 "nbformat_minor": 2
}
